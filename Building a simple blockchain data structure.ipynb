{
 "cells": [
  {
   "cell_type": "markdown",
   "metadata": {},
   "source": [
    "I will build a simple blockchain data structure which relates to Bitcoin."
   ]
  },
  {
   "cell_type": "markdown",
   "metadata": {},
   "source": [
    "Agenda:\n",
    "* SHA-256\n",
    "* Hashing property\n",
    "* Create genesis block\n",
    "* Build blockchain\n",
    "* Check data integrity"
   ]
  },
  {
   "cell_type": "markdown",
   "metadata": {},
   "source": [
    "Reference: https://medium.com/coinmonks/building-a-simple-blockchain-data-structure-with-python-e7ebd448647a"
   ]
  },
  {
   "cell_type": "markdown",
   "metadata": {},
   "source": [
    "## SHA-256"
   ]
  },
  {
   "cell_type": "code",
   "execution_count": 2,
   "metadata": {},
   "outputs": [
    {
     "data": {
      "text/plain": [
       "'b94d27b9934d3e08a52e52d7da7dabfac484efe37a5380ee9088f7ace2efcde9'"
      ]
     },
     "execution_count": 2,
     "metadata": {},
     "output_type": "execute_result"
    }
   ],
   "source": [
    "import hashlib\n",
    "hashlib.sha256(b\"hello world\").hexdigest()"
   ]
  },
  {
   "cell_type": "markdown",
   "metadata": {},
   "source": [
    "The hashing process turns string \"hello world\" into a fixed 256 bit string. One character is 8 bits, so 64 characters string."
   ]
  },
  {
   "cell_type": "markdown",
   "metadata": {},
   "source": [
    "We can check for the 256 bits, which is why it is called SHA-256."
   ]
  },
  {
   "cell_type": "code",
   "execution_count": 4,
   "metadata": {},
   "outputs": [
    {
     "data": {
      "text/plain": [
       "'0b1011100101001101001001111011100110010011010011010011111000001000101001010010111001010010110101111101101001111101101010111111101011000100100001001110111111100011011110100101001110000000111011101001000010001000111101111010110011100010111011111100110111101001'"
      ]
     },
     "execution_count": 4,
     "metadata": {},
     "output_type": "execute_result"
    }
   ],
   "source": [
    "\n",
    "bin(0xb94d27b9934d3e08a52e52d7da7dabfac484efe37a5380ee9088f7ace2efcde9)"
   ]
  },
  {
   "cell_type": "markdown",
   "metadata": {},
   "source": [
    "## Hashing property"
   ]
  },
  {
   "cell_type": "markdown",
   "metadata": {},
   "source": [
    "* Collision free: it is hard to find hash(x) is equal hash(y) where x is different than y.\n",
    "* The outputs will be very different with a tiny change from inputs."
   ]
  },
  {
   "cell_type": "code",
   "execution_count": 6,
   "metadata": {},
   "outputs": [
    {
     "data": {
      "text/plain": [
       "'6b86b273ff34fce19d6b804eff5a3f5747ada4eaa22f1d49c01e52ddb7875b4b'"
      ]
     },
     "execution_count": 6,
     "metadata": {},
     "output_type": "execute_result"
    }
   ],
   "source": [
    "hashlib.sha256(b\"1\").hexdigest()"
   ]
  },
  {
   "cell_type": "code",
   "execution_count": 7,
   "metadata": {},
   "outputs": [
    {
     "data": {
      "text/plain": [
       "'d4735e3a265e16eee03f59718b9b5d03019c07d8b6c51f90da3a666eec13ab35'"
      ]
     },
     "execution_count": 7,
     "metadata": {},
     "output_type": "execute_result"
    }
   ],
   "source": [
    "hashlib.sha256(b\"2\").hexdigest()"
   ]
  },
  {
   "cell_type": "markdown",
   "metadata": {},
   "source": [
    "## Create genesis block"
   ]
  },
  {
   "cell_type": "code",
   "execution_count": 8,
   "metadata": {},
   "outputs": [],
   "source": [
    "import hashlib, json"
   ]
  },
  {
   "cell_type": "code",
   "execution_count": 9,
   "metadata": {},
   "outputs": [],
   "source": [
    "block_genesis = {\n",
    "    'prev_hash': None,\n",
    "    'transactions': [1,3,4,2]\n",
    "}"
   ]
  },
  {
   "cell_type": "markdown",
   "metadata": {},
   "source": [
    "The transactions are like \"a pays 1 btc to b\"."
   ]
  },
  {
   "cell_type": "markdown",
   "metadata": {},
   "source": [
    "Serialize the block so it can be hashed."
   ]
  },
  {
   "cell_type": "code",
   "execution_count": 12,
   "metadata": {},
   "outputs": [],
   "source": [
    "block_genesis_serialized = json.dumps(block_genesis, sort_keys = True).encode('utf-8')\n",
    "block_genesis_hash = hashlib.sha256(block_genesis_serialized).hexdigest()\n",
    "#utf-8 is one of the character encodings that can be used to implement unicode"
   ]
  },
  {
   "cell_type": "markdown",
   "metadata": {},
   "source": [
    "## Build block chain"
   ]
  },
  {
   "cell_type": "code",
   "execution_count": 17,
   "metadata": {},
   "outputs": [],
   "source": [
    "block_2 = {\n",
    "    'prev_hash': block_genesis_hash,\n",
    "    'transactions': [3,3,3,8,7, 12]\n",
    "}"
   ]
  },
  {
   "cell_type": "markdown",
   "metadata": {},
   "source": [
    "hash block_2"
   ]
  },
  {
   "cell_type": "code",
   "execution_count": 18,
   "metadata": {},
   "outputs": [],
   "source": [
    "block_2_serialized = json.dumps(block_2, sort_keys = True).encode('utf-8')\n",
    "block_2_hash = hashlib.sha256(block_2_serialized).hexdigest()"
   ]
  },
  {
   "cell_type": "markdown",
   "metadata": {},
   "source": [
    "build block_3"
   ]
  },
  {
   "cell_type": "code",
   "execution_count": 19,
   "metadata": {},
   "outputs": [],
   "source": [
    "block_3 = {\n",
    "    'prev_hash': block_2_hash,\n",
    "    'transactions': [3,4,4,8,34]\n",
    "}"
   ]
  },
  {
   "cell_type": "markdown",
   "metadata": {},
   "source": [
    "hash block_3"
   ]
  },
  {
   "cell_type": "code",
   "execution_count": 20,
   "metadata": {},
   "outputs": [],
   "source": [
    "block_3_serialized = json.dumps(block_3, sort_keys = True).encode('utf-8')\n",
    "block_3_hash = hashlib.sha256(block_3_serialized).hexdigest()"
   ]
  },
  {
   "cell_type": "markdown",
   "metadata": {},
   "source": [
    "## Check data integrity"
   ]
  },
  {
   "cell_type": "markdown",
   "metadata": {},
   "source": [
    "To make sure data has not been tampered, we need to check the last block's hash."
   ]
  },
  {
   "cell_type": "code",
   "execution_count": 21,
   "metadata": {},
   "outputs": [],
   "source": [
    "def hash_blocks(blocks):\n",
    "    prev_hash = None\n",
    "    for block in blocks:\n",
    "        block['prev_hash'] = prev_hash\n",
    "        block_serialized = json.dumps(block, sort_keys = True).encode('utf-8')\n",
    "        block_hash = hashlib.sha256(block_serialized).hexdigest()\n",
    "        prev_hash = block_hash\n",
    "    return prev_hash"
   ]
  },
  {
   "cell_type": "code",
   "execution_count": 22,
   "metadata": {},
   "outputs": [
    {
     "name": "stdout",
     "output_type": "stream",
     "text": [
      "original hash\n",
      "45eda4f7a76bf0f92a0acda2ce4752dfbe167473376f766f22d7ec68501cac40\n"
     ]
    }
   ],
   "source": [
    "print(\"original hash\")\n",
    "print(hash_blocks([block_genesis, block_2, block_3]))"
   ]
  },
  {
   "cell_type": "code",
   "execution_count": 23,
   "metadata": {},
   "outputs": [
    {
     "name": "stdout",
     "output_type": "stream",
     "text": [
      "tampering the data\n"
     ]
    }
   ],
   "source": [
    "print(\"tampering the data\")\n",
    "block_genesis['transactions'][0] = 3"
   ]
  },
  {
   "cell_type": "code",
   "execution_count": 24,
   "metadata": {},
   "outputs": [
    {
     "name": "stdout",
     "output_type": "stream",
     "text": [
      "after being tampered\n",
      "27d68dae05428be6aa244869196a481f431fca6645dd33c3df7a740afa03b7d9\n"
     ]
    }
   ],
   "source": [
    "print(\"after being tampered\")\n",
    "print(hash_blocks([block_genesis,block_2,block_3]))"
   ]
  }
 ],
 "metadata": {
  "kernelspec": {
   "display_name": "Python 3",
   "language": "python",
   "name": "python3"
  },
  "language_info": {
   "codemirror_mode": {
    "name": "ipython",
    "version": 3
   },
   "file_extension": ".py",
   "mimetype": "text/x-python",
   "name": "python",
   "nbconvert_exporter": "python",
   "pygments_lexer": "ipython3",
   "version": "3.6.5"
  }
 },
 "nbformat": 4,
 "nbformat_minor": 2
}
